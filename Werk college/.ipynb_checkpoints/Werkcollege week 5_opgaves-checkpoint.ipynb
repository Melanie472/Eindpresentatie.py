{
 "cells": [
  {
   "cell_type": "code",
   "execution_count": null,
   "metadata": {},
   "outputs": [],
   "source": [
    "import numpy as np\n",
    "import pandas as pd\n",
    "import matplotlib.pyplot as plt\n",
    "\n",
    "pd.set_option('display.max_columns', None)"
   ]
  },
  {
   "cell_type": "markdown",
   "metadata": {},
   "source": [
    "## 1. \n",
    "**Importeer de dataset Honda.csv**"
   ]
  },
  {
   "cell_type": "code",
   "execution_count": null,
   "metadata": {},
   "outputs": [],
   "source": []
  },
  {
   "cell_type": "markdown",
   "metadata": {},
   "source": [
    "## 2. \n",
    "**a. Inspecteer de waarde Massa.ledig.voertuig middels een histogram. Zijn er waardes die als\n",
    "outlier gezien kunnen worden? Verwijder deze. Doe hetzelfde voor de variabele\n",
    "Massa.rijklaar** <br>\n",
    "Video data inspecteren op outliers: https://youtu.be/Gxlco3CCR9I"
   ]
  },
  {
   "cell_type": "code",
   "execution_count": null,
   "metadata": {},
   "outputs": [],
   "source": []
  },
  {
   "cell_type": "code",
   "execution_count": null,
   "metadata": {},
   "outputs": [],
   "source": []
  },
  {
   "cell_type": "code",
   "execution_count": null,
   "metadata": {},
   "outputs": [],
   "source": []
  },
  {
   "cell_type": "markdown",
   "metadata": {},
   "source": [
    "**b. Inspecteer waardes middels een 2-d plot voor de variabelen massa.ledig.voertuig en\n",
    "massa.rijklaar . Welke additionele waarde zou je nog kunnen verwijderen?**"
   ]
  },
  {
   "cell_type": "code",
   "execution_count": null,
   "metadata": {},
   "outputs": [],
   "source": []
  },
  {
   "cell_type": "code",
   "execution_count": null,
   "metadata": {},
   "outputs": [],
   "source": []
  },
  {
   "cell_type": "markdown",
   "metadata": {},
   "source": [
    "## 3. \n",
    "**a. Zet de variabele Datum_tenaamstelling in Date format om.**\n",
    "Video: https://www.youtube.com/watch?v=4WLtGZ-mbjc&list=PLwkTCAI_gJjW10xaAJpdqeQx7EQgFolfG&index=13 "
   ]
  },
  {
   "cell_type": "code",
   "execution_count": null,
   "metadata": {},
   "outputs": [],
   "source": []
  },
  {
   "cell_type": "code",
   "execution_count": null,
   "metadata": {},
   "outputs": [],
   "source": []
  },
  {
   "cell_type": "markdown",
   "metadata": {},
   "source": [
    "## 4. \n",
    "**Controleer of er NA-waardes in de variabele Bruto.BPM zitten.** <br>\n",
    "Video behandelen missing data: https://youtu.be/Gxlco3CCR9I?t=502 <br>\n",
    "\n",
    "**a. Maak een nieuwe variabele flag, die 1 is indien Bruto.BPM een NA-waarde bevat, en 0 wanneer er input is.**"
   ]
  },
  {
   "cell_type": "code",
   "execution_count": null,
   "metadata": {},
   "outputs": [],
   "source": []
  },
  {
   "cell_type": "code",
   "execution_count": null,
   "metadata": {},
   "outputs": [],
   "source": []
  },
  {
   "cell_type": "code",
   "execution_count": null,
   "metadata": {},
   "outputs": [],
   "source": []
  },
  {
   "cell_type": "markdown",
   "metadata": {},
   "source": [
    "**b. Vul de NA-waardes in met**\n",
    "\n",
    "i. Gemiddelde van de waarde\n",
    "\n",
    "ii. Mediaan van de waarde \n",
    "\n",
    "iii. Interpolatie van bovenstaande onderstaande waarde"
   ]
  },
  {
   "cell_type": "code",
   "execution_count": null,
   "metadata": {},
   "outputs": [],
   "source": []
  },
  {
   "cell_type": "code",
   "execution_count": null,
   "metadata": {},
   "outputs": [],
   "source": []
  },
  {
   "cell_type": "code",
   "execution_count": null,
   "metadata": {},
   "outputs": [],
   "source": []
  },
  {
   "cell_type": "code",
   "execution_count": null,
   "metadata": {},
   "outputs": [],
   "source": []
  },
  {
   "cell_type": "markdown",
   "metadata": {},
   "source": [
    "## 5. \n",
    "**a. Maak een nieuwe dataset met per unieke waarde voor de variabele Handelsbenaming het\n",
    "aantal keren dat deze voorkomt. Welke benaming komt het vaakste voor? **"
   ]
  },
  {
   "cell_type": "code",
   "execution_count": null,
   "metadata": {},
   "outputs": [],
   "source": []
  },
  {
   "cell_type": "markdown",
   "metadata": {},
   "source": [
    "**b. Selecteer uit het oorspronkelijke dataframe alleen de rijen waarin de string “CBR 600” voorkomt in de Handelsbenaming. Kies ervoor om zowel hoofd als kleine letters toe te laten**\n",
    "\n",
    "Tip: https://pandas.pydata.org/docs/reference/api/pandas.Series.str.contains.html"
   ]
  },
  {
   "cell_type": "code",
   "execution_count": null,
   "metadata": {},
   "outputs": [],
   "source": []
  },
  {
   "cell_type": "markdown",
   "metadata": {},
   "source": [
    "**c. Vervang de waardes in de nieuwe dataset die heel erg lijken (maximaal verschil van 20%\n",
    "waardes) op de meest voorkomende waarde.** <br>\n",
    "Tip: Gebruik fuzz.ratio uit fuzzywuzzy <br>\n",
    "Tip2: om fuzz.ratio toe te kunnen passen op een kolom moet je gebruik maken van de apply functie\n",
    "\n",
    "Video fuzzywuzzy: https://www.youtube.com/watch?v=aE2AwoBxXeU&list=PLwkTCAI_gJjW10xaAJpdqeQx7EQgFolfG&index=19 <br>\n",
    "Video apply: https://www.youtube.com/watch?v=eYVD3q15tsA&list=PLwkTCAI_gJjW10xaAJpdqeQx7EQgFolfG&index=18"
   ]
  },
  {
   "cell_type": "code",
   "execution_count": null,
   "metadata": {},
   "outputs": [],
   "source": [
    "#!pip install fuzzywuzzy\n",
    "#of\n",
    "#!conda install -c conda-forge fuzzywuzzy\n"
   ]
  },
  {
   "cell_type": "code",
   "execution_count": null,
   "metadata": {},
   "outputs": [],
   "source": []
  },
  {
   "cell_type": "code",
   "execution_count": null,
   "metadata": {},
   "outputs": [],
   "source": []
  },
  {
   "cell_type": "code",
   "execution_count": null,
   "metadata": {},
   "outputs": [],
   "source": []
  },
  {
   "cell_type": "code",
   "execution_count": null,
   "metadata": {},
   "outputs": [],
   "source": []
  }
 ],
 "metadata": {
  "kernelspec": {
   "display_name": "Python 3 (ipykernel)",
   "language": "python",
   "name": "python3"
  },
  "language_info": {
   "codemirror_mode": {
    "name": "ipython",
    "version": 3
   },
   "file_extension": ".py",
   "mimetype": "text/x-python",
   "name": "python",
   "nbconvert_exporter": "python",
   "pygments_lexer": "ipython3",
   "version": "3.7.11"
  }
 },
 "nbformat": 4,
 "nbformat_minor": 2
}
